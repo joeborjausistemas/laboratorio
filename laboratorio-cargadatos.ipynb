{
 "cells": [
  {
   "cell_type": "markdown",
   "id": "55148ea0",
   "metadata": {},
   "source": [
    "## Taller 4\n",
    "## Cargar CSV a MySQL"
   ]
  },
  {
   "cell_type": "code",
   "execution_count": 9,
   "id": "1f20e0c8",
   "metadata": {},
   "outputs": [
    {
     "name": "stdout",
     "output_type": "stream",
     "text": [
      "Tabla creada exitosamente.\n"
     ]
    }
   ],
   "source": [
    "import os\n",
    "import pandas as pd\n",
    "from sqlalchemy import create_engine, text\n",
    "from dotenv import load_dotenv\n",
    "\n",
    "load_dotenv()\n",
    "\n",
    "DB_HOST = os.getenv(\"DB_HOST\")\n",
    "DB_PORT = os.getenv(\"DB_PORT\")\n",
    "DB_NAME = os.getenv(\"DB_NAME\")\n",
    "DB_USER = os.getenv(\"DB_USER\")\n",
    "DB_PASSWORD = os.getenv(\"DB_PASSWORD\")\n",
    "\n",
    "engine = create_engine(f\"mysql+pymysql://{DB_USER}:{DB_PASSWORD}@{DB_HOST}:{DB_PORT}/{DB_NAME}\")\n",
    "\n",
    "ddl=\"\"\"\n",
    "CREATE TABLE IF NOT EXISTS ventas (\n",
    "    venta_id INT AUTO_INCREMENT PRIMARY KEY,\n",
    "    cliente VARCHAR(100),\n",
    "    producto VARCHAR(100),\n",
    "    categoria VARCHAR(100),\n",
    "    precio_unitario DECIMAL(10, 2),\n",
    "    unidades INT,\n",
    "    fecha DATE\n",
    ");\n",
    "\"\"\"\n",
    "\n",
    "with engine.connect() as conn:\n",
    "    conn.execute(text(ddl))\n",
    "    conn.commit()\n",
    "\n",
    "print(\"Tabla creada exitosamente.\")"
   ]
  },
  {
   "cell_type": "code",
   "execution_count": 10,
   "id": "3dc26fca",
   "metadata": {},
   "outputs": [],
   "source": [
    "# Lee CSV\n",
    "df = pd.read_csv(\"ventas.csv\")\n",
    "\n",
    "# Casts / limpieza\n",
    "df[\"precio_unitario\"] = pd.to_numeric(df[\"precio_unitario\"], errors=\"coerce\")\n",
    "df[\"unidades\"] = pd.to_numeric(df[\"unidades\"], errors=\"coerce\")\n",
    "df[\"fecha\"] = pd.to_datetime(df[\"fecha\"], errors=\"coerce\").dt.date"
   ]
  },
  {
   "cell_type": "code",
   "execution_count": 11,
   "id": "a5909cc4",
   "metadata": {},
   "outputs": [
    {
     "name": "stdout",
     "output_type": "stream",
     "text": [
      "✅ Carga inicial completada. Registros: 20\n"
     ]
    }
   ],
   "source": [
    "# Carga inicial: reemplazar contenido de la tabla\n",
    "with engine.begin() as conn:\n",
    "    conn.execute(text(\"TRUNCATE TABLE ventas\"))\n",
    "df.to_sql(\"ventas\", con=engine, if_exists=\"append\", index=False, method=\"multi\", chunksize=1000)\n",
    "\n",
    "print(f\"✅ Carga inicial completada. Registros: {len(df)}\")"
   ]
  },
  {
   "cell_type": "code",
   "execution_count": 13,
   "id": "410b4197",
   "metadata": {},
   "outputs": [
    {
     "name": "stdout",
     "output_type": "stream",
     "text": [
      "🔁 UPSERT aplicado. Filas procesadas: 4\n"
     ]
    }
   ],
   "source": [
    "# Carga incremental \n",
    "from sqlalchemy import text\n",
    "\n",
    "df_inc = pd.read_csv(\"ventas_incrementales.csv\")\n",
    "df_inc[\"precio_unitario\"] = pd.to_numeric(df_inc[\"precio_unitario\"], errors=\"coerce\")\n",
    "df_inc[\"unidades\"] = pd.to_numeric(df_inc[\"unidades\"], errors=\"coerce\")\n",
    "df_inc[\"fecha\"] = pd.to_datetime(df_inc[\"fecha\"], errors=\"coerce\").dt.date\n",
    "\n",
    "# Convertimos a lista de dicts para ejecuciones masivas\n",
    "records = df_inc.to_dict(orient=\"records\")\n",
    "\n",
    "upsert_sql = text(\"\"\"\n",
    "INSERT INTO ventas (venta_id, cliente, producto, categoria, precio_unitario, unidades, fecha)\n",
    "VALUES (:venta_id, :cliente, :producto, :categoria, :precio_unitario, :unidades, :fecha)\n",
    "ON DUPLICATE KEY UPDATE\n",
    "  cliente=VALUES(cliente),\n",
    "  producto=VALUES(producto),\n",
    "  categoria=VALUES(categoria),\n",
    "  precio_unitario=VALUES(precio_unitario),\n",
    "  unidades=VALUES(unidades),\n",
    "  fecha=VALUES(fecha);\n",
    "\"\"\" )\n",
    "# Inserción por lotes (chunks) para eficiencia\n",
    "batch = 1000\n",
    "with engine.begin() as conn:\n",
    "    for i in range(0, len(records), batch):\n",
    "        conn.execute(upsert_sql, records[i:i+batch])\n",
    "\n",
    "print(f\"🔁 UPSERT aplicado. Filas procesadas: {len(df_inc)}\")\n"
   ]
  },
  {
   "cell_type": "code",
   "execution_count": 15,
   "id": "3a35831f",
   "metadata": {},
   "outputs": [
    {
     "name": "stdout",
     "output_type": "stream",
     "text": [
      "   venta_id cliente     producto    categoria  precio_unitario  unidades  \\\n",
      "0         1     Ana       Laptop  Electrónica           2500.0         1   \n",
      "1         2    Luis     Teléfono  Electrónica           1200.0         2   \n",
      "2         3   Cesar       Tablet  Electrónica            800.0         1   \n",
      "3         4   María    Audífonos   Accesorios            150.0         3   \n",
      "4         5   Pedro      Monitor  Electrónica            650.0         1   \n",
      "5         6   Laura      Teclado   Accesorios            100.0         1   \n",
      "6         7   Diego        Mouse   Accesorios             50.0         2   \n",
      "7         8     Ana  Base Laptop   Accesorios             45.0         1   \n",
      "8         9    Luis    Disco SSD  Electrónica            300.0         1   \n",
      "9        10   Cesar       Webcam   Accesorios             80.0         1   \n",
      "\n",
      "        fecha  \n",
      "0  2023-01-01  \n",
      "1  2023-01-02  \n",
      "2  2023-01-02  \n",
      "3  2023-01-03  \n",
      "4  2023-01-15  \n",
      "5  2023-01-05  \n",
      "6  2023-01-06  \n",
      "7  2023-01-06  \n",
      "8  2023-01-07  \n",
      "9  2023-01-07  \n",
      "    venta_id cliente   producto    categoria  precio_unitario  unidades  \\\n",
      "13        14   Diego     Router  Electrónica            180.0         1   \n",
      "14        15     Ana    Hub USB   Accesorios             35.0         1   \n",
      "15        16    Luis  Impresora  Electrónica            220.0         1   \n",
      "16        17   Cesar     Tablet  Electrónica            820.0         1   \n",
      "17        18   María  Audífonos   Accesorios            155.0         1   \n",
      "18        19   Pedro    Monitor  Electrónica            610.0         1   \n",
      "19        20   Laura    Teclado   Accesorios            105.0         1   \n",
      "20        21    Nora     Cámara  Electrónica            350.0         1   \n",
      "21        22  Andrés    Lámpara   Accesorios             40.0         2   \n",
      "22        23     Leo    Lámpara   Accesorios             40.0         2   \n",
      "\n",
      "         fecha  \n",
      "13  2023-01-10  \n",
      "14  2023-01-11  \n",
      "15  2023-01-11  \n",
      "16  2023-01-12  \n",
      "17  2023-01-12  \n",
      "18  2023-01-13  \n",
      "19  2023-01-14  \n",
      "20  2023-01-16  \n",
      "21  2023-01-16  \n",
      "22  2023-01-16  \n",
      "Total registros: 23\n",
      "Top 5 productos por total vendido:\n",
      "    producto   total\n",
      "0     Laptop  2500.0\n",
      "1   Teléfono  2400.0\n",
      "2     Tablet  1620.0\n",
      "3    Monitor  1260.0\n",
      "4  Audífonos   605.0\n"
     ]
    }
   ],
   "source": [
    "# Muestra primeras y últimas filas\n",
    "all_rows = pd.read_sql(\"SELECT * FROM ventas ORDER BY venta_id\", con=engine)\n",
    "print(all_rows.head(10))\n",
    "print(all_rows.tail(10))\n",
    "print(\"Total registros:\", len(all_rows))\n",
    "\n",
    "# Top 5 productos por ventas (precio * unidades)\n",
    "top5 = pd.read_sql(\"\"\"\n",
    "SELECT producto, SUM(precio_unitario * unidades) AS total\n",
    "FROM ventas\n",
    "GROUP BY producto\n",
    "ORDER BY total DESC\n",
    "LIMIT 5;\n",
    "\"\"\", con=engine)\n",
    "print(\"Top 5 productos por total vendido:\")\n",
    "print(top5)"
   ]
  }
 ],
 "metadata": {
  "kernelspec": {
   "display_name": "Python 3",
   "language": "python",
   "name": "python3"
  },
  "language_info": {
   "codemirror_mode": {
    "name": "ipython",
    "version": 3
   },
   "file_extension": ".py",
   "mimetype": "text/x-python",
   "name": "python",
   "nbconvert_exporter": "python",
   "pygments_lexer": "ipython3",
   "version": "3.13.5"
  }
 },
 "nbformat": 4,
 "nbformat_minor": 5
}
